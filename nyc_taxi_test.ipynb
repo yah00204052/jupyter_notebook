{
 "cells": [
  {
   "cell_type": "code",
   "execution_count": 15,
   "metadata": {},
   "outputs": [
    {
     "name": "stdout",
     "output_type": "stream",
     "text": [
      " Volume in drive E is New Volume\n",
      " Volume Serial Number is 1C12-46B9\n",
      "\n",
      " Directory of E:\\github\n",
      "\n",
      "03/04/2018  08:02 AM    <DIR>          .\n",
      "03/04/2018  08:02 AM    <DIR>          ..\n",
      "03/04/2018  07:20 AM    <DIR>          .ipynb_checkpoints\n",
      "03/01/2018  09:08 PM    <DIR>          handson-ml\n",
      "03/03/2018  09:02 PM    <DIR>          ipython\n",
      "03/04/2018  08:02 AM             5,999 Untitled.ipynb\n",
      "03/04/2018  07:04 AM       912,283,443 yellow_tripdata_2016-09.csv\n",
      "               2 File(s)    912,289,442 bytes\n",
      "               5 Dir(s)  207,156,666,368 bytes free\n"
     ]
    }
   ],
   "source": [
    "!dir"
   ]
  },
  {
   "cell_type": "code",
   "execution_count": 1,
   "metadata": {
    "collapsed": true
   },
   "outputs": [],
   "source": [
    "import pandas as pd\n",
    "df=pd.read_csv('yellow_tripdata_2016-09.csv')"
   ]
  },
  {
   "cell_type": "code",
   "execution_count": 2,
   "metadata": {},
   "outputs": [
    {
     "data": {
      "text/html": [
       "<div>\n",
       "<style>\n",
       "    .dataframe thead tr:only-child th {\n",
       "        text-align: right;\n",
       "    }\n",
       "\n",
       "    .dataframe thead th {\n",
       "        text-align: left;\n",
       "    }\n",
       "\n",
       "    .dataframe tbody tr th {\n",
       "        vertical-align: top;\n",
       "    }\n",
       "</style>\n",
       "<table border=\"1\" class=\"dataframe\">\n",
       "  <thead>\n",
       "    <tr style=\"text-align: right;\">\n",
       "      <th></th>\n",
       "      <th>tpep_pickup_datetime</th>\n",
       "      <th>tpep_dropoff_datetime</th>\n",
       "      <th>passenger_count</th>\n",
       "      <th>RatecodeID</th>\n",
       "      <th>store_and_fwd_flag</th>\n",
       "      <th>PULocationID</th>\n",
       "      <th>DOLocationID</th>\n",
       "      <th>payment_type</th>\n",
       "      <th>fare_amount</th>\n",
       "      <th>extra</th>\n",
       "      <th>mta_tax</th>\n",
       "      <th>tip_amount</th>\n",
       "      <th>tolls_amount</th>\n",
       "      <th>improvement_surcharge</th>\n",
       "      <th>total_amount</th>\n",
       "    </tr>\n",
       "  </thead>\n",
       "  <tbody>\n",
       "    <tr>\n",
       "      <th>count</th>\n",
       "      <td>1.011602e+07</td>\n",
       "      <td>1.011602e+07</td>\n",
       "      <td>1.011602e+07</td>\n",
       "      <td>1.011602e+07</td>\n",
       "      <td>1.011602e+07</td>\n",
       "      <td>1.011602e+07</td>\n",
       "      <td>1.011602e+07</td>\n",
       "      <td>1.011602e+07</td>\n",
       "      <td>1.011602e+07</td>\n",
       "      <td>1.011602e+07</td>\n",
       "      <td>1.011602e+07</td>\n",
       "      <td>1.011602e+07</td>\n",
       "      <td>1.011602e+07</td>\n",
       "      <td>0.0</td>\n",
       "      <td>0.0</td>\n",
       "    </tr>\n",
       "    <tr>\n",
       "      <th>mean</th>\n",
       "      <td>1.646714e+00</td>\n",
       "      <td>9.215423e+00</td>\n",
       "      <td>1.045893e+00</td>\n",
       "      <td>1.615609e+02</td>\n",
       "      <td>1.596643e+02</td>\n",
       "      <td>1.351555e+00</td>\n",
       "      <td>1.384959e+01</td>\n",
       "      <td>3.365935e-01</td>\n",
       "      <td>4.972028e-01</td>\n",
       "      <td>1.849818e+00</td>\n",
       "      <td>3.332251e-01</td>\n",
       "      <td>2.996874e-01</td>\n",
       "      <td>1.717115e+01</td>\n",
       "      <td>NaN</td>\n",
       "      <td>NaN</td>\n",
       "    </tr>\n",
       "    <tr>\n",
       "      <th>std</th>\n",
       "      <td>1.291265e+00</td>\n",
       "      <td>7.206350e+03</td>\n",
       "      <td>5.210502e-01</td>\n",
       "      <td>6.715654e+01</td>\n",
       "      <td>7.085685e+01</td>\n",
       "      <td>4.952862e-01</td>\n",
       "      <td>3.398187e+02</td>\n",
       "      <td>5.110001e-01</td>\n",
       "      <td>4.492708e-02</td>\n",
       "      <td>2.711445e+00</td>\n",
       "      <td>1.725128e+00</td>\n",
       "      <td>1.324589e-02</td>\n",
       "      <td>3.399928e+02</td>\n",
       "      <td>NaN</td>\n",
       "      <td>NaN</td>\n",
       "    </tr>\n",
       "    <tr>\n",
       "      <th>min</th>\n",
       "      <td>0.000000e+00</td>\n",
       "      <td>0.000000e+00</td>\n",
       "      <td>1.000000e+00</td>\n",
       "      <td>1.000000e+00</td>\n",
       "      <td>1.000000e+00</td>\n",
       "      <td>1.000000e+00</td>\n",
       "      <td>-3.070000e+02</td>\n",
       "      <td>-5.458000e+01</td>\n",
       "      <td>-5.000000e-01</td>\n",
       "      <td>-4.000000e+01</td>\n",
       "      <td>-1.804000e+01</td>\n",
       "      <td>-3.000000e-01</td>\n",
       "      <td>-3.178000e+02</td>\n",
       "      <td>NaN</td>\n",
       "      <td>NaN</td>\n",
       "    </tr>\n",
       "    <tr>\n",
       "      <th>25%</th>\n",
       "      <td>1.000000e+00</td>\n",
       "      <td>1.000000e+00</td>\n",
       "      <td>1.000000e+00</td>\n",
       "      <td>1.130000e+02</td>\n",
       "      <td>1.070000e+02</td>\n",
       "      <td>1.000000e+00</td>\n",
       "      <td>7.000000e+00</td>\n",
       "      <td>0.000000e+00</td>\n",
       "      <td>5.000000e-01</td>\n",
       "      <td>0.000000e+00</td>\n",
       "      <td>0.000000e+00</td>\n",
       "      <td>3.000000e-01</td>\n",
       "      <td>8.800000e+00</td>\n",
       "      <td>NaN</td>\n",
       "      <td>NaN</td>\n",
       "    </tr>\n",
       "    <tr>\n",
       "      <th>50%</th>\n",
       "      <td>1.000000e+00</td>\n",
       "      <td>1.700000e+00</td>\n",
       "      <td>1.000000e+00</td>\n",
       "      <td>1.610000e+02</td>\n",
       "      <td>1.620000e+02</td>\n",
       "      <td>1.000000e+00</td>\n",
       "      <td>1.000000e+01</td>\n",
       "      <td>0.000000e+00</td>\n",
       "      <td>5.000000e-01</td>\n",
       "      <td>1.300000e+00</td>\n",
       "      <td>0.000000e+00</td>\n",
       "      <td>3.000000e-01</td>\n",
       "      <td>1.235000e+01</td>\n",
       "      <td>NaN</td>\n",
       "      <td>NaN</td>\n",
       "    </tr>\n",
       "    <tr>\n",
       "      <th>75%</th>\n",
       "      <td>2.000000e+00</td>\n",
       "      <td>3.230000e+00</td>\n",
       "      <td>1.000000e+00</td>\n",
       "      <td>2.330000e+02</td>\n",
       "      <td>2.330000e+02</td>\n",
       "      <td>2.000000e+00</td>\n",
       "      <td>1.550000e+01</td>\n",
       "      <td>5.000000e-01</td>\n",
       "      <td>5.000000e-01</td>\n",
       "      <td>2.460000e+00</td>\n",
       "      <td>0.000000e+00</td>\n",
       "      <td>3.000000e-01</td>\n",
       "      <td>1.880000e+01</td>\n",
       "      <td>NaN</td>\n",
       "      <td>NaN</td>\n",
       "    </tr>\n",
       "    <tr>\n",
       "      <th>max</th>\n",
       "      <td>9.000000e+00</td>\n",
       "      <td>1.468000e+07</td>\n",
       "      <td>9.900000e+01</td>\n",
       "      <td>2.650000e+02</td>\n",
       "      <td>2.650000e+02</td>\n",
       "      <td>5.000000e+00</td>\n",
       "      <td>6.475617e+05</td>\n",
       "      <td>6.528000e+02</td>\n",
       "      <td>5.538000e+01</td>\n",
       "      <td>9.999900e+02</td>\n",
       "      <td>9.548600e+02</td>\n",
       "      <td>3.000000e-01</td>\n",
       "      <td>6.475674e+05</td>\n",
       "      <td>NaN</td>\n",
       "      <td>NaN</td>\n",
       "    </tr>\n",
       "  </tbody>\n",
       "</table>\n",
       "</div>"
      ],
      "text/plain": [
       "       tpep_pickup_datetime  tpep_dropoff_datetime  passenger_count  \\\n",
       "count          1.011602e+07           1.011602e+07     1.011602e+07   \n",
       "mean           1.646714e+00           9.215423e+00     1.045893e+00   \n",
       "std            1.291265e+00           7.206350e+03     5.210502e-01   \n",
       "min            0.000000e+00           0.000000e+00     1.000000e+00   \n",
       "25%            1.000000e+00           1.000000e+00     1.000000e+00   \n",
       "50%            1.000000e+00           1.700000e+00     1.000000e+00   \n",
       "75%            2.000000e+00           3.230000e+00     1.000000e+00   \n",
       "max            9.000000e+00           1.468000e+07     9.900000e+01   \n",
       "\n",
       "         RatecodeID  store_and_fwd_flag  PULocationID  DOLocationID  \\\n",
       "count  1.011602e+07        1.011602e+07  1.011602e+07  1.011602e+07   \n",
       "mean   1.615609e+02        1.596643e+02  1.351555e+00  1.384959e+01   \n",
       "std    6.715654e+01        7.085685e+01  4.952862e-01  3.398187e+02   \n",
       "min    1.000000e+00        1.000000e+00  1.000000e+00 -3.070000e+02   \n",
       "25%    1.130000e+02        1.070000e+02  1.000000e+00  7.000000e+00   \n",
       "50%    1.610000e+02        1.620000e+02  1.000000e+00  1.000000e+01   \n",
       "75%    2.330000e+02        2.330000e+02  2.000000e+00  1.550000e+01   \n",
       "max    2.650000e+02        2.650000e+02  5.000000e+00  6.475617e+05   \n",
       "\n",
       "       payment_type   fare_amount         extra       mta_tax    tip_amount  \\\n",
       "count  1.011602e+07  1.011602e+07  1.011602e+07  1.011602e+07  1.011602e+07   \n",
       "mean   3.365935e-01  4.972028e-01  1.849818e+00  3.332251e-01  2.996874e-01   \n",
       "std    5.110001e-01  4.492708e-02  2.711445e+00  1.725128e+00  1.324589e-02   \n",
       "min   -5.458000e+01 -5.000000e-01 -4.000000e+01 -1.804000e+01 -3.000000e-01   \n",
       "25%    0.000000e+00  5.000000e-01  0.000000e+00  0.000000e+00  3.000000e-01   \n",
       "50%    0.000000e+00  5.000000e-01  1.300000e+00  0.000000e+00  3.000000e-01   \n",
       "75%    5.000000e-01  5.000000e-01  2.460000e+00  0.000000e+00  3.000000e-01   \n",
       "max    6.528000e+02  5.538000e+01  9.999900e+02  9.548600e+02  3.000000e-01   \n",
       "\n",
       "       tolls_amount  improvement_surcharge  total_amount  \n",
       "count  1.011602e+07                    0.0           0.0  \n",
       "mean   1.717115e+01                    NaN           NaN  \n",
       "std    3.399928e+02                    NaN           NaN  \n",
       "min   -3.178000e+02                    NaN           NaN  \n",
       "25%    8.800000e+00                    NaN           NaN  \n",
       "50%    1.235000e+01                    NaN           NaN  \n",
       "75%    1.880000e+01                    NaN           NaN  \n",
       "max    6.475674e+05                    NaN           NaN  "
      ]
     },
     "execution_count": 2,
     "metadata": {},
     "output_type": "execute_result"
    }
   ],
   "source": [
    "df.shape\n",
    "df.describe()"
   ]
  },
  {
   "cell_type": "code",
   "execution_count": 7,
   "metadata": {},
   "outputs": [
    {
     "data": {
      "text/plain": [
       "Index(['VendorID', 'tpep_pickup_datetime', 'tpep_dropoff_datetime',\n",
       "       'passenger_count', 'trip_distance', 'RatecodeID', 'store_and_fwd_flag',\n",
       "       'PULocationID', 'DOLocationID', 'payment_type', 'fare_amount', 'extra',\n",
       "       'mta_tax', 'tip_amount', 'tolls_amount', 'improvement_surcharge',\n",
       "       'total_amount'],\n",
       "      dtype='object')"
      ]
     },
     "execution_count": 7,
     "metadata": {},
     "output_type": "execute_result"
    }
   ],
   "source": [
    "df.columns\n"
   ]
  },
  {
   "cell_type": "code",
   "execution_count": null,
   "metadata": {
    "collapsed": true
   },
   "outputs": [],
   "source": [
    "df[['tip_amount', 'passenger_count']].mean()"
   ]
  },
  {
   "cell_type": "code",
   "execution_count": 3,
   "metadata": {},
   "outputs": [],
   "source": [
    "multip = df[df.passenger_count>1]\n"
   ]
  },
  {
   "cell_type": "code",
   "execution_count": 2,
   "metadata": {
    "collapsed": true
   },
   "outputs": [],
   "source": [
    "multip = df.loc[df['passenger_count']>1]\n"
   ]
  },
  {
   "cell_type": "code",
   "execution_count": 4,
   "metadata": {},
   "outputs": [
    {
     "data": {
      "text/plain": [
       "(309832, 17)"
      ]
     },
     "execution_count": 4,
     "metadata": {},
     "output_type": "execute_result"
    }
   ],
   "source": [
    "multip.shape"
   ]
  },
  {
   "cell_type": "code",
   "execution_count": 4,
   "metadata": {},
   "outputs": [
    {
     "data": {
      "text/plain": [
       "0.297838828786314"
      ]
     },
     "execution_count": 4,
     "metadata": {},
     "output_type": "execute_result"
    }
   ],
   "source": [
    "multip['tip_amount'].mean()"
   ]
  },
  {
   "cell_type": "code",
   "execution_count": 13,
   "metadata": {},
   "outputs": [
    {
     "data": {
      "text/plain": [
       "passenger_count\n",
       "1     0.499563\n",
       "2     0.498513\n",
       "3     0.000043\n",
       "4     0.498396\n",
       "5     0.147865\n",
       "6     0.464646\n",
       "99    0.183246\n",
       "Name: fare_amount, dtype: float64"
      ]
     },
     "execution_count": 13,
     "metadata": {},
     "output_type": "execute_result"
    }
   ],
   "source": [
    "df.groupby('passenger_count')['fare_amount'].mean()"
   ]
  },
  {
   "cell_type": "code",
   "execution_count": 6,
   "metadata": {},
   "outputs": [
    {
     "data": {
      "text/plain": [
       "pandas.core.indexing._LocIndexer"
      ]
     },
     "execution_count": 6,
     "metadata": {},
     "output_type": "execute_result"
    }
   ],
   "source": [
    "paytype=df['payment_type']\n",
    "d1=paytype.loc(df['payment_type'] > 0.2)\n",
    "type(d1)"
   ]
  },
  {
   "cell_type": "code",
   "execution_count": 20,
   "metadata": {
    "collapsed": true
   },
   "outputs": [],
   "source": [
    "ts = df['fare_amount']"
   ]
  },
  {
   "cell_type": "code",
   "execution_count": 6,
   "metadata": {},
   "outputs": [],
   "source": [
    "df.tpep_pickup_datetime = pd.to_datetime(df.tpep_pickup_datetime)\n"
   ]
  },
  {
   "cell_type": "code",
   "execution_count": 8,
   "metadata": {
    "collapsed": true
   },
   "outputs": [],
   "source": [
    "import matplotlib as plt\n",
    "%matplotlib inline"
   ]
  },
  {
   "cell_type": "code",
   "execution_count": 9,
   "metadata": {},
   "outputs": [
    {
     "name": "stderr",
     "output_type": "stream",
     "text": [
      "C:\\ProgramData\\Anaconda3\\lib\\site-packages\\matplotlib\\axes\\_base.py:2918: UserWarning: Attempting to set identical left==right results\n",
      "in singular transformations; automatically expanding.\n",
      "left=719163.0, right=719163.0\n",
      "  'left=%s, right=%s') % (left, right))\n"
     ]
    },
    {
     "data": {
      "text/plain": [
       "<matplotlib.axes._subplots.AxesSubplot at 0x1b7055a7160>"
      ]
     },
     "execution_count": 9,
     "metadata": {},
     "output_type": "execute_result"
    },
    {
     "data": {
      "image/png": "[encoded data removed]",
      "text/plain": [
       "<matplotlib.figure.Figure at 0x1b705a04470>"
      ]
     },
     "metadata": {},
     "output_type": "display_data"
    }
   ],
   "source": [
    "df1 = df[:1000]\n",
    "df2 = df1[['tpep_pickup_datetime','fare_amount', 'mta_tax']]\n",
    "df2.plot(x=df2.tpep_pickup_datetime)"
   ]
  },
  {
   "cell_type": "code",
   "execution_count": 54,
   "metadata": {
    "collapsed": true
   },
   "outputs": [],
   "source": [
    "df2.to_csv('output.csv')"
   ]
  },
  {
   "cell_type": "code",
   "execution_count": null,
   "metadata": {
    "collapsed": true
   },
   "outputs": [],
   "source": []
  }
 ],
 "metadata": {
  "kernelspec": {
   "display_name": "Python 3",
   "language": "python",
   "name": "python3"
  },
  "language_info": {
   "codemirror_mode": {
    "name": "ipython",
    "version": 3
   },
   "file_extension": ".py",
   "mimetype": "text/x-python",
   "name": "python",
   "nbconvert_exporter": "python",
   "pygments_lexer": "ipython3",
   "version": "3.6.3"
  }
 },
 "nbformat": 4,
 "nbformat_minor": 2
}
